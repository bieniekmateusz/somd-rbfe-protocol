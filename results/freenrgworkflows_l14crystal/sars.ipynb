{
 "cells": [
  {
   "cell_type": "markdown",
   "id": "d68be7ba",
   "metadata": {},
   "source": [
    "    # Default Perturbation network analysis notebook\n",
    "    This notebook was automatically generated using freenrgworkflows\n",
    "    Author: Antonia Mey\n",
    "    Email: antonia.mey@ed.ac.uk"
   ]
  },
  {
   "cell_type": "code",
   "execution_count": 1,
   "id": "3f4e1e4a",
   "metadata": {},
   "outputs": [
    {
     "name": "stdout",
     "output_type": "stream",
     "text": [
      "Populating the interactive namespace from numpy and matplotlib\n"
     ]
    },
    {
     "data": {
      "text/plain": [
       "'1.2.0'"
      ]
     },
     "execution_count": 1,
     "metadata": {},
     "output_type": "execute_result"
    }
   ],
   "source": [
    "    %pylab inline\n",
    "    import networkanalysis.networkanalysis as n_graph\n",
    "    import networkanalysis.plotting as n_plot\n",
    "    import networkanalysis.experiments as n_ex\n",
    "    import networkanalysis.stats as n_stats\n",
    "    import networkanalysis\n",
    "    networkanalysis.__version__"
   ]
  },
  {
   "cell_type": "code",
   "execution_count": 2,
   "id": "7081d76b",
   "metadata": {},
   "outputs": [
    {
     "name": "stdout",
     "output_type": "stream",
     "text": [
      "mat compounds ['10' '11' '12' '13' '14' '16' '17' '18' '19' '20' '21' '24' '25']\n",
      "paths 10 11\n",
      "[['10', '11']]\n",
      "path weights [1.]\n",
      "sum_list [-0.83698325]\n",
      "paths 10 12\n",
      "[['10', '11', '12'], ['10', '11', '25', '12']]\n",
      "path weights [0.68396526 0.31603474]\n",
      "sum_list [-0.6799324999999999, -1.13770325]\n",
      "paths 10 13\n",
      "[['10', '13'], ['10', '24', '13']]\n",
      "path weights [0.66086997 0.33913003]\n",
      "sum_list [-0.21597, -1.19112425]\n",
      "paths 10 14\n",
      "[['10', '14']]\n",
      "path weights [1.]\n",
      "sum_list [-1.377996]\n",
      "paths 10 16\n",
      "[['10', '14', '16'], ['10', '14', '17', '16']]\n",
      "path weights [0.78517222 0.21482778]\n",
      "sum_list [-2.324595, -2.41243425]\n",
      "paths 10 17\n",
      "[['10', '14', '17'], ['10', '14', '16', '17']]\n",
      "path weights [0.85347917 0.14652083]\n",
      "sum_list [-1.84871475, -1.7608755]\n",
      "paths 10 18\n",
      "[['10', '14', '17', '18'], ['10', '14', '16', '17', '18']]\n",
      "path weights [0.78118606 0.21881394]\n",
      "sum_list [-2.21980675, -2.1319675]\n",
      "paths 10 19\n",
      "[['10', '14', '17', '18', '19'], ['10', '14', '16', '17', '18', '19'], ['10', '14', '17', '18', '20', '19'], ['10', '14', '16', '17', '18', '20', '19'], ['10', '14', '17', '18', '20', '21', '19'], ['10', '14', '16', '17', '18', '20', '21', '19']]\n",
      "path weights [0.29054499 0.09171369 0.2212565  0.08857282 0.21945588 0.08845611]\n",
      "sum_list [-2.221939, -2.13409975, -2.2138425, -2.12600325, -1.778907, -1.69106775]\n",
      "paths 10 20\n",
      "[['10', '14', '17', '18', '20'], ['10', '14', '16', '17', '18', '20'], ['10', '14', '17', '18', '19', '20'], ['10', '14', '16', '17', '18', '19', '20'], ['10', '14', '17', '18', '19', '21', '20'], ['10', '14', '16', '17', '18', '19', '21', '20']]\n",
      "path weights [0.30580566 0.09187931 0.21418415 0.0878535  0.21253855 0.08773884]\n",
      "sum_list [-2.2798615, -2.19202225, -2.2879579999999997, -2.2001187499999997, -2.7228935, -2.63505425]\n",
      "paths 10 21\n",
      "[['10', '14', '17', '18', '19', '21'], ['10', '14', '17', '18', '20', '21'], ['10', '14', '16', '17', '18', '19', '21'], ['10', '14', '17', '18', '19', '20', '21'], ['10', '14', '17', '18', '20', '19', '21'], ['10', '14', '16', '17', '18', '20', '21'], ['10', '14', '16', '17', '18', '19', '20', '21'], ['10', '14', '16', '17', '18', '20', '19', '21']]\n",
      "path weights [0.22686088 0.17621982 0.072756   0.14189345 0.17403197 0.0704146\n",
      " 0.0675505  0.0702728 ]\n",
      "sum_list [-2.6991135, -2.2560815, -2.61127425, -2.264178, -2.6910170000000004, -2.16824225, -2.1763387499999998, -2.6031777500000004]\n",
      "paths 10 24\n",
      "[['10', '24'], ['10', '13', '24']]\n",
      "path weights [0.9888097 0.0111903]\n",
      "sum_list [-1.45119175, -0.4760375]\n",
      "paths 10 25\n",
      "[['10', '11', '25'], ['10', '11', '12', '25']]\n",
      "path weights [0.59233769 0.40766231]\n",
      "sum_list [-1.313246, -0.8554752499999999]\n",
      "Free energies computed from the perturbation network are: \n",
      "---------------------------------------- \n",
      "#FREE ENERGIES ARE:\n",
      "10         -0.000 +/- 0.000\n",
      "11         -0.837 +/- 0.145\n",
      "12         -0.825 +/- 0.241\n",
      "13         -0.547 +/- 0.211\n",
      "14         -1.378 +/- 0.107\n",
      "16         -2.343 +/- 0.321\n",
      "17         -1.836 +/- 0.260\n",
      "18         -2.201 +/- 0.341\n",
      "19         -2.059 +/- 0.405\n",
      "20         -2.392 +/- 0.405\n",
      "21         -2.472 +/- 0.425\n",
      "24         -1.440 +/- 0.035\n",
      "25         -1.127 +/- 0.267\n"
     ]
    },
    {
     "name": "stderr",
     "output_type": "stream",
     "text": [
      "<ipython-input-2-89f9da757f69>:2: DeprecationWarning: PerturbationGraph is deprecated use the NetworkAnnalyser class instead.\n",
      "  pG = n_graph.PerturbationGraph()\n"
     ]
    }
   ],
   "source": [
    "    # Creating and populating the perturbation network\n",
    "    pG = n_graph.PerturbationGraph()\n",
    "    # Change the path below to the csv file containing the individual perturbations\n",
    "    pG.populate_pert_graph('sars/sarscov2-3toR.csv')\n",
    "    # Uncomment below if you have run multiple runs for some perturbations and add file path\n",
    "    #pG.add_data_to_graph('/path/to/additional/runs.csv')\n",
    "    target_compound = pG.compoundList[0] #change this to your target compound\n",
    "    pG.compute_weighted_avg_paths(target_compound)\n",
    "    pG.format_free_energies(merge_BM=True,intermed_ID='INT')\n",
    "    computed_relative_DDGs = pG.freeEnergyInKcal\n",
    "    print (\"Free energies computed from the perturbation network are: \")\n",
    "    print (\"---------------------------------------- \")\n",
    "    pG.write_free_energies(computed_relative_DDGs)"
   ]
  },
  {
   "cell_type": "markdown",
   "id": "40ca6bd5",
   "metadata": {},
   "source": [
    "\n",
    "    ### Experimental data\n",
    "    It is useful to compare computed free energies to experimental data.\n",
    "    The cells below will read in your experimental data. Just replace the path to you IC50 data in the\n",
    "    `IC_50_file` variable "
   ]
  },
  {
   "cell_type": "code",
   "execution_count": 3,
   "id": "576cc2ba",
   "metadata": {},
   "outputs": [
    {
     "name": "stdout",
     "output_type": "stream",
     "text": [
      "ref 10\n",
      "mat keys ['1', '2', '3', '4', '5', '6', '7', '8', '9', '10', '11', '12', '13', '14', '15', '16', '17', '18', '19', '20', '21', '22', '23', '24', '25', '26', '27']\n",
      "Free energies computed from IC50 data: \n",
      "---------------------------------------- \n",
      "#FREE ENERGIES ARE:\n",
      "1          2.970 +/- 0.413\n",
      "2          1.263 +/- 0.413\n",
      "3          0.996 +/- 0.413\n",
      "4          0.721 +/- 0.413\n",
      "5          -1.281 +/- 0.413\n",
      "6          -0.559 +/- 0.413\n",
      "7          -0.868 +/- 0.413\n",
      "8          -0.510 +/- 0.413\n",
      "9          0.908 +/- 0.413\n",
      "10         0.000 +/- 0.413\n",
      "11         -1.373 +/- 0.413\n",
      "12         -0.935 +/- 0.413\n",
      "13         -1.099 +/- 0.413\n",
      "14         -1.334 +/- 0.413\n",
      "15         -1.425 +/- 0.413\n",
      "16         -1.481 +/- 0.413\n",
      "17         -1.425 +/- 0.413\n",
      "18         -2.332 +/- 0.413\n",
      "19         -2.074 +/- 0.413\n",
      "20         -2.090 +/- 0.413\n",
      "21         -2.504 +/- 0.413\n",
      "22         -2.090 +/- 0.413\n",
      "23         -2.441 +/- 0.413\n",
      "24         -2.074 +/- 0.413\n",
      "25         -2.308 +/- 0.413\n",
      "26         -1.165 +/- 0.413\n",
      "27         -1.373 +/- 0.413\n"
     ]
    },
    {
     "name": "stderr",
     "output_type": "stream",
     "text": [
      "<ipython-input-3-1db586f4d278>:3: DeprecationWarning: compute_DDG_from_IC50s is deprecated use compute_affinites instead.\n",
      "  experiments.compute_DDG_from_IC50s(IC_50_file, reference=target_compound)\n"
     ]
    }
   ],
   "source": [
    "    experiments = n_ex.ExperimentalData()\n",
    "    IC_50_file = 'sars/sarscov2_ic50_exp.csv'\n",
    "    experiments.compute_DDG_from_IC50s(IC_50_file, reference=target_compound)\n",
    "    experimental_DDGs = experiments.freeEnergiesInKcal\n",
    "    print (\"Free energies computed from IC50 data: \")\n",
    "    print (\"---------------------------------------- \")\n",
    "    pG.write_free_energies(experimental_DDGs)"
   ]
  },
  {
   "cell_type": "markdown",
   "id": "9499b43e",
   "metadata": {},
   "source": [
    "\n",
    "    ### Typical plots\n",
    "    Below a bar plot and scatter plot template for comparing experimental and computed free energy values"
   ]
  },
  {
   "cell_type": "code",
   "execution_count": 4,
   "id": "0b88e024",
   "metadata": {},
   "outputs": [
    {
     "name": "stdout",
     "output_type": "stream",
     "text": [
      "['10' '11' '12' '13' '14' '16' '17' '18' '19' '20' '21' '24' '25']\n"
     ]
    },
    {
     "data": {
      "image/png": "[encoded data removed]",
      "text/plain": [
       "<Figure size 576x432 with 1 Axes>"
      ]
     },
     "metadata": {
      "needs_background": "light"
     },
     "output_type": "display_data"
    }
   ],
   "source": [
    "    plotter = n_plot.FreeEnergyPlotter(experimental_DDGs, computed_relative_DDGs)\n",
    "    ax,fig = plotter.plot_bar_plot(legend=('experimental', 'computed'))"
   ]
  },
  {
   "cell_type": "code",
   "execution_count": 5,
   "id": "37c71d60",
   "metadata": {},
   "outputs": [
    {
     "data": {
      "image/png": "[encoded data removed]",
      "text/plain": [
       "<Figure size 432x288 with 1 Axes>"
      ]
     },
     "metadata": {
      "needs_background": "light"
     },
     "output_type": "display_data"
    }
   ],
   "source": [
    "    plotter.plot_scatter_plot() "
   ]
  },
  {
   "cell_type": "markdown",
   "id": "b7b868d7",
   "metadata": {},
   "source": [
    "\n",
    "    ### Error analysis on typical statistical measures: R_mean, MUE and Kendall tau_mean\n",
    "    Below are examples of how to re-sample from the data in order to obtain error bars on correlation coefficients,\n",
    "    mean unsigned errors and Kendall tau. Returned are confidence intervals of 65% and the median of the distribution.\n",
    "     However, standard deviations and mean can also\n",
    "    be returned, though less likely to give good information as these distributions are often heavily skewed and not\n",
    "    normally distributed. "
   ]
  },
  {
   "cell_type": "code",
   "execution_count": 6,
   "id": "38e17637",
   "metadata": {},
   "outputs": [
    {
     "name": "stdout",
     "output_type": "stream",
     "text": [
      "R confidence is: 0.70 < 0.73 < 0.76\n",
      "Mue confidence is: 0.42 < 0.45 < 0.48\n",
      "tau confidence is: 0.53 < 0.58 < 0.61\n"
     ]
    }
   ],
   "source": [
    "    stats = n_stats.freeEnergyStats()\n",
    "    stats.generate_statistics(computed_relative_DDGs,experimental_DDGs,repeats=10000)\n",
    "    r_confidence = stats.R_confidence\n",
    "    tau_confidence = stats.tau_confidence\n",
    "    mue_confidence = stats.mue_confidence\n",
    "    print (\"R confidence is: %.2f < %.2f < %.2f\" %(r_confidence[1], r_confidence[0], r_confidence[2]))\n",
    "    print (\"Mue confidence is: %.2f < %.2f < %.2f\" %(mue_confidence[1], mue_confidence[0], mue_confidence[2]))\n",
    "    print (\"tau confidence is: %.2f < %.2f < %.2f\" %(tau_confidence[1], tau_confidence[0], tau_confidence[2]))"
   ]
  },
  {
   "cell_type": "code",
   "execution_count": null,
   "id": "b0cde42e",
   "metadata": {},
   "outputs": [],
   "source": []
  },
  {
   "cell_type": "code",
   "execution_count": null,
   "id": "080d0772",
   "metadata": {},
   "outputs": [],
   "source": []
  },
  {
   "cell_type": "code",
   "execution_count": null,
   "id": "9b95f6c3",
   "metadata": {},
   "outputs": [],
   "source": []
  }
 ],
 "metadata": {
  "kernelspec": {
   "display_name": "Python 3",
   "language": "python",
   "name": "python3"
  },
  "language_info": {
   "codemirror_mode": {
    "name": "ipython",
    "version": 3
   },
   "file_extension": ".py",
   "mimetype": "text/x-python",
   "name": "python",
   "nbconvert_exporter": "python",
   "pygments_lexer": "ipython3",
   "version": "3.9.7"
  }
 },
 "nbformat": 4,
 "nbformat_minor": 5
}
