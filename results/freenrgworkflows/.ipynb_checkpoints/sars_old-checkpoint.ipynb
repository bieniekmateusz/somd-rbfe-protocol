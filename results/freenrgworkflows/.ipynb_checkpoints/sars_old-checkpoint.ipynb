{
 "cells": [
  {
   "cell_type": "markdown",
   "id": "cb4f2143",
   "metadata": {},
   "source": [
    "    # Default Perturbation network analysis notebook\n",
    "    This notebook was automatically generated using freenrgworkflows\n",
    "    Author: Antonia Mey\n",
    "    Email: antonia.mey@ed.ac.uk"
   ]
  },
  {
   "cell_type": "code",
   "execution_count": 2,
   "id": "41382f8d",
   "metadata": {},
   "outputs": [
    {
     "name": "stdout",
     "output_type": "stream",
     "text": [
      "Populating the interactive namespace from numpy and matplotlib\n"
     ]
    },
    {
     "data": {
      "text/plain": [
       "'1.2.0'"
      ]
     },
     "execution_count": 2,
     "metadata": {},
     "output_type": "execute_result"
    }
   ],
   "source": [
    "    %pylab inline\n",
    "    import networkanalysis.networkanalysis as n_graph\n",
    "    import networkanalysis.plotting as n_plot\n",
    "    import networkanalysis.experiments as n_ex\n",
    "    import networkanalysis.stats as n_stats\n",
    "    import networkanalysis\n",
    "    networkanalysis.__version__"
   ]
  },
  {
   "cell_type": "code",
   "execution_count": 3,
   "id": "7b4f38a6",
   "metadata": {},
   "outputs": [
    {
     "name": "stdout",
     "output_type": "stream",
     "text": [
      "mat compounds ['10' '11' '12' '13' '14' '16' '17' '18' '19' '20' '21' '24' '25']\n",
      "paths 14 10\n",
      "[['14', '10']]\n",
      "path weights [1.]\n",
      "sum_list [1.377996]\n",
      "paths 14 11\n",
      "[['14', '10', '11']]\n",
      "path weights [1.]\n",
      "sum_list [0.54101275]\n",
      "paths 14 12\n",
      "[['14', '10', '11', '12'], ['14', '10', '11', '25', '12']]\n",
      "path weights [0.65447213 0.34552787]\n",
      "sum_list [0.6980635000000001, 0.24029275000000008]\n",
      "paths 14 13\n",
      "[['14', '10', '13'], ['14', '10', '24', '13']]\n",
      "path weights [0.62873641 0.37126359]\n",
      "sum_list [1.162026, 0.18687175]\n",
      "paths 14 16\n",
      "[['14', '16'], ['14', '17', '16']]\n",
      "path weights [0.97365169 0.02634831]\n",
      "sum_list [-0.7695832499999999, -0.6265782499999999]\n",
      "paths 14 17\n",
      "[['14', '17'], ['14', '16', '17']]\n",
      "path weights [0.81266873 0.18733127]\n",
      "sum_list [-0.06285874999999999, -0.20586375]\n",
      "paths 14 18\n",
      "[['14', '17', '18'], ['14', '16', '17', '18']]\n",
      "path weights [0.75581052 0.24418948]\n",
      "sum_list [-0.43395074999999994, -0.57695575]\n",
      "paths 14 19\n",
      "[['14', '17', '18', '19'], ['14', '16', '17', '18', '19'], ['14', '17', '18', '20', '19'], ['14', '16', '17', '18', '20', '19'], ['14', '17', '18', '20', '21', '19'], ['14', '16', '17', '18', '20', '21', '19']]\n",
      "path weights [0.27700399 0.09849081 0.21822906 0.09489296 0.21662343 0.09475976]\n",
      "sum_list [-0.43608299999999994, -0.5790879999999999, -0.42798649999999994, -0.5709915000000001, 0.0069490000000001495, -0.13605599999999995]\n",
      "paths 14 20\n",
      "[['14', '17', '18', '20'], ['14', '16', '17', '18', '20'], ['14', '17', '18', '19', '20'], ['14', '16', '17', '18', '19', '20'], ['14', '17', '18', '19', '21', '20'], ['14', '16', '17', '18', '19', '21', '20']]\n",
      "path weights [0.289566   0.0989113  0.21227832 0.09428978 0.21079585 0.09415876]\n",
      "sum_list [-0.49400549999999993, -0.6370105, -0.5021019999999999, -0.6451069999999999, -0.9370375000000001, -1.0800424999999998]\n",
      "paths 14 21\n",
      "[['14', '17', '18', '19', '21'], ['14', '17', '18', '20', '21'], ['14', '16', '17', '18', '19', '21'], ['14', '17', '18', '19', '20', '21'], ['14', '17', '18', '20', '19', '21'], ['14', '16', '17', '18', '20', '21'], ['14', '16', '17', '18', '19', '20', '21'], ['14', '16', '17', '18', '20', '19', '21']]\n",
      "path weights [0.2156094  0.17275659 0.07766605 0.14154922 0.17081708 0.07500006\n",
      " 0.07176243 0.07483917]\n",
      "sum_list [-0.9132575, -0.4702254999999999, -1.0562624999999999, -0.4783219999999999, -0.905161, -0.6132305, -0.6213269999999999, -1.0481660000000002]\n",
      "paths 14 24\n",
      "[['14', '10', '24'], ['14', '10', '13', '24']]\n",
      "path weights [0.76524713 0.23475287]\n",
      "sum_list [-0.07319575, 0.9019585]\n",
      "paths 14 25\n",
      "[['14', '10', '11', '25'], ['14', '10', '11', '12', '25']]\n",
      "path weights [0.5796835 0.4203165]\n",
      "sum_list [0.06475000000000009, 0.5225207500000001]\n",
      "Free energies computed from the perturbation network are: \n",
      "---------------------------------------- \n",
      "#FREE ENERGIES ARE:\n",
      "10         1.378 +/- 0.107\n",
      "11         0.541 +/- 0.180\n",
      "12         0.540 +/- 0.269\n",
      "13         0.800 +/- 0.240\n",
      "14         -0.000 +/- 0.000\n",
      "16         -0.766 +/- 0.102\n",
      "17         -0.090 +/- 0.290\n",
      "18         -0.469 +/- 0.354\n",
      "19         -0.337 +/- 0.412\n",
      "20         -0.673 +/- 0.412\n",
      "21         -0.752 +/- 0.430\n",
      "24         0.156 +/- 0.192\n",
      "25         0.257 +/- 0.288\n"
     ]
    },
    {
     "name": "stderr",
     "output_type": "stream",
     "text": [
      "<ipython-input-3-1662bb4b217d>:2: DeprecationWarning: PerturbationGraph is deprecated use the NetworkAnnalyser class instead.\n",
      "  pG = n_graph.PerturbationGraph()\n"
     ]
    }
   ],
   "source": [
    "    # Creating and populating the perturbation network\n",
    "    pG = n_graph.PerturbationGraph()\n",
    "    # Change the path below to the csv file containing the individual perturbations\n",
    "    pG.populate_pert_graph('sars/sarscov2-3toR.csv')\n",
    "    # Uncomment below if you have run multiple runs for some perturbations and add file path\n",
    "    #pG.add_data_to_graph('/path/to/additional/runs.csv')\n",
    "    target_compound = pG.compoundList[4] #change this to your target compound\n",
    "    pG.compute_weighted_avg_paths(target_compound)\n",
    "    pG.format_free_energies(merge_BM=True,intermed_ID='INT')\n",
    "    computed_relative_DDGs = pG.freeEnergyInKcal\n",
    "    print (\"Free energies computed from the perturbation network are: \")\n",
    "    print (\"---------------------------------------- \")\n",
    "    pG.write_free_energies(computed_relative_DDGs)"
   ]
  },
  {
   "cell_type": "markdown",
   "id": "49865e62",
   "metadata": {},
   "source": [
    "\n",
    "    ### Experimental data\n",
    "    It is useful to compare computed free energies to experimental data.\n",
    "    The cells below will read in your experimental data. Just replace the path to you IC50 data in the\n",
    "    `IC_50_file` variable "
   ]
  },
  {
   "cell_type": "code",
   "execution_count": 4,
   "id": "e5068389",
   "metadata": {},
   "outputs": [
    {
     "name": "stdout",
     "output_type": "stream",
     "text": [
      "ref 14\n",
      "mat keys ['1', '2', '3', '4', '5', '6', '7', '8', '9', '10', '11', '12', '13', '14', '15', '16', '17', '18', '19', '20', '21', '22', '23', '24', '25', '26', '27']\n",
      "Free energies computed from IC50 data: \n",
      "---------------------------------------- \n",
      "#FREE ENERGIES ARE:\n",
      "1          4.305 +/- 0.413\n",
      "2          2.598 +/- 0.413\n",
      "3          2.330 +/- 0.413\n",
      "4          2.055 +/- 0.413\n",
      "5          0.053 +/- 0.413\n",
      "6          0.775 +/- 0.413\n",
      "7          0.467 +/- 0.413\n",
      "8          0.824 +/- 0.413\n",
      "9          2.242 +/- 0.413\n",
      "10         1.334 +/- 0.413\n",
      "11         -0.038 +/- 0.413\n",
      "12         0.399 +/- 0.413\n",
      "13         0.235 +/- 0.413\n",
      "14         0.000 +/- 0.413\n",
      "15         -0.090 +/- 0.413\n",
      "16         -0.147 +/- 0.413\n",
      "17         -0.090 +/- 0.413\n",
      "18         -0.998 +/- 0.413\n",
      "19         -0.740 +/- 0.413\n",
      "20         -0.756 +/- 0.413\n",
      "21         -1.169 +/- 0.413\n",
      "22         -0.756 +/- 0.413\n",
      "23         -1.107 +/- 0.413\n",
      "24         -0.740 +/- 0.413\n",
      "25         -0.974 +/- 0.413\n",
      "26         0.169 +/- 0.413\n",
      "27         -0.038 +/- 0.413\n"
     ]
    },
    {
     "name": "stderr",
     "output_type": "stream",
     "text": [
      "<ipython-input-4-1db586f4d278>:3: DeprecationWarning: compute_DDG_from_IC50s is deprecated use compute_affinites instead.\n",
      "  experiments.compute_DDG_from_IC50s(IC_50_file, reference=target_compound)\n"
     ]
    }
   ],
   "source": [
    "    experiments = n_ex.ExperimentalData()\n",
    "    IC_50_file = 'sars/sarscov2_ic50_exp.csv'\n",
    "    experiments.compute_DDG_from_IC50s(IC_50_file, reference=target_compound)\n",
    "    experimental_DDGs = experiments.freeEnergiesInKcal\n",
    "    print (\"Free energies computed from IC50 data: \")\n",
    "    print (\"---------------------------------------- \")\n",
    "    pG.write_free_energies(experimental_DDGs)"
   ]
  },
  {
   "cell_type": "markdown",
   "id": "40c8a08f",
   "metadata": {},
   "source": [
    "\n",
    "    ### Typical plots\n",
    "    Below a bar plot and scatter plot template for comparing experimental and computed free energy values"
   ]
  },
  {
   "cell_type": "code",
   "execution_count": 5,
   "id": "bc05529f",
   "metadata": {},
   "outputs": [
    {
     "name": "stdout",
     "output_type": "stream",
     "text": [
      "['10' '11' '12' '13' '14' '16' '17' '18' '19' '20' '21' '24' '25']\n"
     ]
    },
    {
     "data": {
      "image/png": "[encoded data removed]",
      "text/plain": [
       "<Figure size 576x432 with 1 Axes>"
      ]
     },
     "metadata": {
      "needs_background": "light"
     },
     "output_type": "display_data"
    }
   ],
   "source": [
    "    plotter = n_plot.FreeEnergyPlotter(experimental_DDGs, computed_relative_DDGs)\n",
    "    ax,fig = plotter.plot_bar_plot(legend=('experimental', 'computed'))"
   ]
  },
  {
   "cell_type": "code",
   "execution_count": 6,
   "id": "fdc4031d",
   "metadata": {},
   "outputs": [
    {
     "data": {
      "text/plain": [
       "['10', '11', '12', '13', '14', '16', '17', '18', '19', '20', '21', '24', '25']"
      ]
     },
     "execution_count": 6,
     "metadata": {},
     "output_type": "execute_result"
    }
   ],
   "source": [
    "plotter.labels"
   ]
  },
  {
   "cell_type": "code",
   "execution_count": 7,
   "id": "8b3d2cbc",
   "metadata": {},
   "outputs": [
    {
     "data": {
      "text/plain": [
       "[0.10651538353742612,\n",
       " 0.17971061921991763,\n",
       " 0.2687442628571432,\n",
       " 0.24046570979463003,\n",
       " 0.0,\n",
       " 0.10210610779932407,\n",
       " 0.2904972965079525,\n",
       " 0.35361701043380905,\n",
       " 0.41178491402055284,\n",
       " 0.41214729452893434,\n",
       " 0.4297080410815163,\n",
       " 0.1924312718717889,\n",
       " 0.2883269028142169]"
      ]
     },
     "execution_count": 7,
     "metadata": {},
     "output_type": "execute_result"
    }
   ],
   "source": [
    "list(plotter.dataseries2[:, 1])"
   ]
  },
  {
   "cell_type": "code",
   "execution_count": 8,
   "id": "e4acbc92",
   "metadata": {},
   "outputs": [
    {
     "data": {
      "image/png": "[encoded data removed]",
      "text/plain": [
       "<Figure size 576x432 with 1 Axes>"
      ]
     },
     "metadata": {
      "needs_background": "light"
     },
     "output_type": "display_data"
    }
   ],
   "source": [
    "plt.figure(figsize=(8, 6))\n",
    "#plt.rcParams[\"font.size\"] = \"22\"\n",
    "plt.rcParams.update({\"font.size\":26, \"ytick.labelsize\": 21, \"xtick.labelsize\": 21})\n",
    "plt.errorbar(plotter.dataseries1[:, 0], plotter.dataseries2[:, 0], yerr=plotter.dataseries2[:, 1], linewidth=0, \n",
    "             marker='o', elinewidth=1)\n",
    "plt.plot([-2.5, 0.2], [-2.5, 0.2], '--', alpha=0.7)\n",
    "plt.ylabel(r'$\\rm \\Delta G_{SOMD}$ / kcal/mol')\n",
    "plt.xlabel(r'$\\rm \\Delta G_{exp}$ / kcal/mol')\n",
    "plt.tight_layout()\n",
    "plt.savefig('deltaG-FEP.png', dpi=300)\n",
    "             #color=sns.xkcd_rgb[\"pale red\"], linewidth=0, elinewidth=1, marker='o')\n",
    "#         a = self.dataseries1[:, 0]\n",
    "#         b = self.dataseries2[:, 0]\n",
    "#plotter.dataseries1[:, 0]"
   ]
  },
  {
   "cell_type": "code",
   "execution_count": 9,
   "id": "d8ba0256",
   "metadata": {},
   "outputs": [
    {
     "data": {
      "image/png": "[encoded data removed]",
      "text/plain": [
       "<Figure size 432x288 with 1 Axes>"
      ]
     },
     "metadata": {
      "needs_background": "light"
     },
     "output_type": "display_data"
    }
   ],
   "source": [
    "    plotter.plot_scatter_plot() "
   ]
  },
  {
   "cell_type": "markdown",
   "id": "8eb84f89",
   "metadata": {},
   "source": [
    "\n",
    "    ### Error analysis on typical statistical measures: R_mean, MUE and Kendall tau_mean\n",
    "    Below are examples of how to re-sample from the data in order to obtain error bars on correlation coefficients,\n",
    "    mean unsigned errors and Kendall tau. Returned are confidence intervals of 65% and the median of the distribution.\n",
    "     However, standard deviations and mean can also\n",
    "    be returned, though less likely to give good information as these distributions are often heavily skewed and not\n",
    "    normally distributed. "
   ]
  },
  {
   "cell_type": "code",
   "execution_count": 10,
   "id": "8b3560ef",
   "metadata": {},
   "outputs": [
    {
     "name": "stdout",
     "output_type": "stream",
     "text": [
      "R confidence is: 0.68 < 0.72 < 0.75\n",
      "Mue confidence is: 0.45 < 0.48 < 0.51\n",
      "tau confidence is: 0.50 < 0.53 < 0.58\n"
     ]
    }
   ],
   "source": [
    "    stats = n_stats.freeEnergyStats()\n",
    "    stats.generate_statistics(computed_relative_DDGs,experimental_DDGs,repeats=10000)\n",
    "    r_confidence = stats.R_confidence\n",
    "    tau_confidence = stats.tau_confidence\n",
    "    mue_confidence = stats.mue_confidence\n",
    "    print (\"R confidence is: %.2f < %.2f < %.2f\" %(r_confidence[1], r_confidence[0], r_confidence[2]))\n",
    "    print (\"Mue confidence is: %.2f < %.2f < %.2f\" %(mue_confidence[1], mue_confidence[0], mue_confidence[2]))\n",
    "    print (\"tau confidence is: %.2f < %.2f < %.2f\" %(tau_confidence[1], tau_confidence[0], tau_confidence[2]))"
   ]
  },
  {
   "cell_type": "code",
   "execution_count": null,
   "id": "1f1cf6bc",
   "metadata": {},
   "outputs": [],
   "source": []
  },
  {
   "cell_type": "code",
   "execution_count": null,
   "id": "0c0af499",
   "metadata": {},
   "outputs": [],
   "source": []
  }
 ],
 "metadata": {
  "kernelspec": {
   "display_name": "Python 3",
   "language": "python",
   "name": "python3"
  },
  "language_info": {
   "codemirror_mode": {
    "name": "ipython",
    "version": 3
   },
   "file_extension": ".py",
   "mimetype": "text/x-python",
   "name": "python",
   "nbconvert_exporter": "python",
   "pygments_lexer": "ipython3",
   "version": "3.9.7"
  }
 },
 "nbformat": 4,
 "nbformat_minor": 5
}
