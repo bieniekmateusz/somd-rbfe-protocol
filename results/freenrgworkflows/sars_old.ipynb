{
 "cells": [
  {
   "cell_type": "markdown",
   "id": "cb4f2143",
   "metadata": {},
   "source": [
    "    # Default Perturbation network analysis notebook\n",
    "    This notebook was automatically generated using freenrgworkflows\n",
    "    Author: Antonia Mey\n",
    "    Email: antonia.mey@ed.ac.uk"
   ]
  },
  {
   "cell_type": "code",
   "execution_count": 2,
   "id": "41382f8d",
   "metadata": {},
   "outputs": [
    {
     "name": "stdout",
     "output_type": "stream",
     "text": [
      "Populating the interactive namespace from numpy and matplotlib\n"
     ]
    },
    {
     "data": {
      "text/plain": [
       "'1.2.0'"
      ]
     },
     "execution_count": 2,
     "metadata": {},
     "output_type": "execute_result"
    }
   ],
   "source": [
    "    %pylab inline\n",
    "    import networkanalysis.networkanalysis as n_graph\n",
    "    import networkanalysis.plotting as n_plot\n",
    "    import networkanalysis.experiments as n_ex\n",
    "    import networkanalysis.stats as n_stats\n",
    "    import networkanalysis\n",
    "    networkanalysis.__version__"
   ]
  },
  {
   "cell_type": "code",
   "execution_count": 11,
   "id": "7b4f38a6",
   "metadata": {},
   "outputs": [
    {
     "name": "stdout",
     "output_type": "stream",
     "text": [
      "mat compounds ['10' '11' '12' '13' '14' '16' '17' '18' '19' '20' '21' '24' '25']\n",
      "paths 10 11\n",
      "[['10', '11']]\n",
      "path weights [1.]\n",
      "sum_list [-0.83698325]\n",
      "paths 10 12\n",
      "[['10', '11', '12'], ['10', '11', '25', '12']]\n",
      "path weights [0.68396526 0.31603474]\n",
      "sum_list [-0.6799324999999999, -1.13770325]\n",
      "paths 10 13\n",
      "[['10', '13'], ['10', '24', '13']]\n",
      "path weights [0.66086997 0.33913003]\n",
      "sum_list [-0.21597, -1.19112425]\n",
      "paths 10 14\n",
      "[['10', '14']]\n",
      "path weights [1.]\n",
      "sum_list [-1.377996]\n",
      "paths 10 16\n",
      "[['10', '14', '16'], ['10', '14', '17', '16']]\n",
      "path weights [0.85380707 0.14619293]\n",
      "sum_list [-2.1475792499999997, -2.00457425]\n",
      "paths 10 17\n",
      "[['10', '14', '17'], ['10', '14', '16', '17']]\n",
      "path weights [0.77781358 0.22218642]\n",
      "sum_list [-1.44085475, -1.5838597499999998]\n",
      "paths 10 18\n",
      "[['10', '14', '17', '18'], ['10', '14', '16', '17', '18']]\n",
      "path weights [0.73507739 0.26492261]\n",
      "sum_list [-1.81194675, -1.9549517499999998]\n",
      "paths 10 19\n",
      "[['10', '14', '17', '18', '19'], ['10', '14', '16', '17', '18', '19'], ['10', '14', '17', '18', '20', '19'], ['10', '14', '16', '17', '18', '20', '19'], ['10', '14', '17', '18', '20', '21', '19'], ['10', '14', '16', '17', '18', '20', '21', '19']]\n",
      "path weights [0.26560074 0.10310802 0.21697383 0.09944067 0.21557205 0.09930469]\n",
      "sum_list [-1.814079, -1.9570839999999998, -1.8059824999999998, -1.9489874999999997, -1.371047, -1.5140519999999997]\n",
      "paths 10 20\n",
      "[['10', '14', '17', '18', '20'], ['10', '14', '16', '17', '18', '20'], ['10', '14', '17', '18', '19', '20'], ['10', '14', '16', '17', '18', '19', '20'], ['10', '14', '17', '18', '19', '21', '20'], ['10', '14', '16', '17', '18', '19', '21', '20']]\n",
      "path weights [0.27566578 0.10369593 0.21206257 0.09897785 0.21075403 0.09884384]\n",
      "sum_list [-1.8720014999999999, -2.0150064999999997, -1.880098, -2.023103, -2.3150334999999997, -2.4580385]\n",
      "paths 10 21\n",
      "[['10', '14', '17', '18', '19', '21'], ['10', '14', '17', '18', '20', '21'], ['10', '14', '16', '17', '18', '19', '21'], ['10', '14', '17', '18', '19', '20', '21'], ['10', '14', '17', '18', '20', '19', '21'], ['10', '14', '16', '17', '18', '20', '21'], ['10', '14', '16', '17', '18', '19', '20', '21'], ['10', '14', '16', '17', '18', '20', '19', '21']]\n",
      "path weights [0.20599688 0.17064437 0.08080144 0.14274602 0.16896173 0.07810083\n",
      " 0.07481114 0.0779376 ]\n",
      "sum_list [-2.2912535, -1.8482215, -2.4342585, -1.8563180000000001, -2.283157, -1.9912264999999998, -1.999323, -2.4261619999999997]\n",
      "paths 10 24\n",
      "[['10', '24'], ['10', '13', '24']]\n",
      "path weights [0.9888097 0.0111903]\n",
      "sum_list [-1.45119175, -0.4760375]\n",
      "paths 10 25\n",
      "[['10', '11', '25'], ['10', '11', '12', '25']]\n",
      "path weights [0.59233769 0.40766231]\n",
      "sum_list [-1.313246, -0.8554752499999999]\n",
      "Free energies computed from the perturbation network are: \n",
      "---------------------------------------- \n",
      "#FREE ENERGIES ARE:\n",
      "10         -0.000 +/- 0.000\n",
      "11         -0.837 +/- 0.145\n",
      "12         -0.825 +/- 0.241\n",
      "13         -0.547 +/- 0.211\n",
      "14         -1.378 +/- 0.107\n",
      "16         -2.127 +/- 0.261\n",
      "17         -1.473 +/- 0.328\n",
      "18         -1.850 +/- 0.379\n",
      "19         -1.715 +/- 0.431\n",
      "20         -2.055 +/- 0.432\n",
      "21         -2.129 +/- 0.448\n",
      "24         -1.440 +/- 0.035\n",
      "25         -1.127 +/- 0.267\n"
     ]
    },
    {
     "name": "stderr",
     "output_type": "stream",
     "text": [
      "<ipython-input-11-89f9da757f69>:2: DeprecationWarning: PerturbationGraph is deprecated use the NetworkAnnalyser class instead.\n",
      "  pG = n_graph.PerturbationGraph()\n"
     ]
    }
   ],
   "source": [
    "    # Creating and populating the perturbation network\n",
    "    pG = n_graph.PerturbationGraph()\n",
    "    # Change the path below to the csv file containing the individual perturbations\n",
    "    pG.populate_pert_graph('sars/sarscov2-3toR.csv')\n",
    "    # Uncomment below if you have run multiple runs for some perturbations and add file path\n",
    "    #pG.add_data_to_graph('/path/to/additional/runs.csv')\n",
    "    target_compound = pG.compoundList[0] #change this to your target compound\n",
    "    pG.compute_weighted_avg_paths(target_compound)\n",
    "    pG.format_free_energies(merge_BM=True,intermed_ID='INT')\n",
    "    computed_relative_DDGs = pG.freeEnergyInKcal\n",
    "    print (\"Free energies computed from the perturbation network are: \")\n",
    "    print (\"---------------------------------------- \")\n",
    "    pG.write_free_energies(computed_relative_DDGs)"
   ]
  },
  {
   "cell_type": "markdown",
   "id": "49865e62",
   "metadata": {},
   "source": [
    "\n",
    "    ### Experimental data\n",
    "    It is useful to compare computed free energies to experimental data.\n",
    "    The cells below will read in your experimental data. Just replace the path to you IC50 data in the\n",
    "    `IC_50_file` variable "
   ]
  },
  {
   "cell_type": "code",
   "execution_count": 12,
   "id": "e5068389",
   "metadata": {},
   "outputs": [
    {
     "name": "stdout",
     "output_type": "stream",
     "text": [
      "ref 10\n",
      "mat keys ['1', '2', '3', '4', '5', '6', '7', '8', '9', '10', '11', '12', '13', '14', '15', '16', '17', '18', '19', '20', '21', '22', '23', '24', '25', '26', '27']\n",
      "Free energies computed from IC50 data: \n",
      "---------------------------------------- \n",
      "#FREE ENERGIES ARE:\n",
      "1          2.970 +/- 0.413\n",
      "2          1.263 +/- 0.413\n",
      "3          0.996 +/- 0.413\n",
      "4          0.721 +/- 0.413\n",
      "5          -1.281 +/- 0.413\n",
      "6          -0.559 +/- 0.413\n",
      "7          -0.868 +/- 0.413\n",
      "8          -0.510 +/- 0.413\n",
      "9          0.908 +/- 0.413\n",
      "10         0.000 +/- 0.413\n",
      "11         -1.373 +/- 0.413\n",
      "12         -0.935 +/- 0.413\n",
      "13         -1.099 +/- 0.413\n",
      "14         -1.334 +/- 0.413\n",
      "15         -1.425 +/- 0.413\n",
      "16         -1.481 +/- 0.413\n",
      "17         -1.425 +/- 0.413\n",
      "18         -2.332 +/- 0.413\n",
      "19         -2.074 +/- 0.413\n",
      "20         -2.090 +/- 0.413\n",
      "21         -2.504 +/- 0.413\n",
      "22         -2.090 +/- 0.413\n",
      "23         -2.441 +/- 0.413\n",
      "24         -2.074 +/- 0.413\n",
      "25         -2.308 +/- 0.413\n",
      "26         -1.165 +/- 0.413\n",
      "27         -1.373 +/- 0.413\n"
     ]
    },
    {
     "name": "stderr",
     "output_type": "stream",
     "text": [
      "<ipython-input-12-1db586f4d278>:3: DeprecationWarning: compute_DDG_from_IC50s is deprecated use compute_affinites instead.\n",
      "  experiments.compute_DDG_from_IC50s(IC_50_file, reference=target_compound)\n"
     ]
    }
   ],
   "source": [
    "    experiments = n_ex.ExperimentalData()\n",
    "    IC_50_file = 'sars/sarscov2_ic50_exp.csv'\n",
    "    experiments.compute_DDG_from_IC50s(IC_50_file, reference=target_compound)\n",
    "    experimental_DDGs = experiments.freeEnergiesInKcal\n",
    "    print (\"Free energies computed from IC50 data: \")\n",
    "    print (\"---------------------------------------- \")\n",
    "    pG.write_free_energies(experimental_DDGs)"
   ]
  },
  {
   "cell_type": "markdown",
   "id": "40c8a08f",
   "metadata": {},
   "source": [
    "\n",
    "    ### Typical plots\n",
    "    Below a bar plot and scatter plot template for comparing experimental and computed free energy values"
   ]
  },
  {
   "cell_type": "code",
   "execution_count": 13,
   "id": "bc05529f",
   "metadata": {},
   "outputs": [
    {
     "name": "stdout",
     "output_type": "stream",
     "text": [
      "['10' '11' '12' '13' '14' '16' '17' '18' '19' '20' '21' '24' '25']\n"
     ]
    },
    {
     "data": {
      "image/png": "[encoded data removed]",
      "text/plain": [
       "<Figure size 576x432 with 1 Axes>"
      ]
     },
     "metadata": {
      "needs_background": "light"
     },
     "output_type": "display_data"
    }
   ],
   "source": [
    "    plotter = n_plot.FreeEnergyPlotter(experimental_DDGs, computed_relative_DDGs)\n",
    "    ax,fig = plotter.plot_bar_plot(legend=('experimental', 'computed'))"
   ]
  },
  {
   "cell_type": "code",
   "execution_count": 22,
   "id": "fdc4031d",
   "metadata": {},
   "outputs": [
    {
     "data": {
      "text/plain": [
       "['10', '11', '12', '13', '14', '16', '17', '18', '19', '20', '21', '24', '25']"
      ]
     },
     "execution_count": 22,
     "metadata": {},
     "output_type": "execute_result"
    }
   ],
   "source": [
    "plotter.labels"
   ]
  },
  {
   "cell_type": "code",
   "execution_count": 21,
   "id": "8b3d2cbc",
   "metadata": {},
   "outputs": [
    {
     "data": {
      "text/plain": [
       "[0.0,\n",
       " 0.1447424600118474,\n",
       " 0.24076517679766307,\n",
       " 0.21078126505044043,\n",
       " 0.10651538353742612,\n",
       " 0.260593056724288,\n",
       " 0.32835390688749766,\n",
       " 0.3789160654628044,\n",
       " 0.43113448529166537,\n",
       " 0.43183720292955263,\n",
       " 0.4479322736870619,\n",
       " 0.03518049463869551,\n",
       " 0.26664358430507173]"
      ]
     },
     "execution_count": 21,
     "metadata": {},
     "output_type": "execute_result"
    }
   ],
   "source": [
    "list(plotter.dataseries2[:, 1])"
   ]
  },
  {
   "cell_type": "code",
   "execution_count": 16,
   "id": "e4acbc92",
   "metadata": {},
   "outputs": [
    {
     "data": {
      "image/png": "[encoded data removed]",
      "text/plain": [
       "<Figure size 576x432 with 1 Axes>"
      ]
     },
     "metadata": {
      "needs_background": "light"
     },
     "output_type": "display_data"
    }
   ],
   "source": [
    "plt.figure(figsize=(8, 6))\n",
    "#plt.rcParams[\"font.size\"] = \"22\"\n",
    "plt.rcParams.update({\"font.size\":26, \"ytick.labelsize\": 21, \"xtick.labelsize\": 21})\n",
    "plt.errorbar(plotter.dataseries1[:, 0], plotter.dataseries2[:, 0], yerr=plotter.dataseries2[:, 1], linewidth=0, \n",
    "             marker='o', elinewidth=1)\n",
    "plt.plot([-2.5, 0.2], [-2.5, 0.2], '--', alpha=0.7)\n",
    "plt.ylabel(r'$\\rm \\Delta G_{SOMD}$ / kcal/mol')\n",
    "plt.xlabel(r'$\\rm \\Delta G_{exp}$ / kcal/mol')\n",
    "plt.tight_layout()\n",
    "plt.savefig('deltaG-FEP.png', dpi=300)\n",
    "             #color=sns.xkcd_rgb[\"pale red\"], linewidth=0, elinewidth=1, marker='o')\n",
    "#         a = self.dataseries1[:, 0]\n",
    "#         b = self.dataseries2[:, 0]\n",
    "#plotter.dataseries1[:, 0]"
   ]
  },
  {
   "cell_type": "code",
   "execution_count": 17,
   "id": "d8ba0256",
   "metadata": {},
   "outputs": [
    {
     "data": {
      "image/png": "[encoded data removed]",
      "text/plain": [
       "<Figure size 432x288 with 1 Axes>"
      ]
     },
     "metadata": {
      "needs_background": "light"
     },
     "output_type": "display_data"
    }
   ],
   "source": [
    "    plotter.plot_scatter_plot() "
   ]
  },
  {
   "cell_type": "markdown",
   "id": "8eb84f89",
   "metadata": {},
   "source": [
    "\n",
    "    ### Error analysis on typical statistical measures: R_mean, MUE and Kendall tau_mean\n",
    "    Below are examples of how to re-sample from the data in order to obtain error bars on correlation coefficients,\n",
    "    mean unsigned errors and Kendall tau. Returned are confidence intervals of 65% and the median of the distribution.\n",
    "     However, standard deviations and mean can also\n",
    "    be returned, though less likely to give good information as these distributions are often heavily skewed and not\n",
    "    normally distributed. "
   ]
  },
  {
   "cell_type": "code",
   "execution_count": 18,
   "id": "8b3560ef",
   "metadata": {},
   "outputs": [
    {
     "name": "stdout",
     "output_type": "stream",
     "text": [
      "R confidence is: 0.70 < 0.73 < 0.76\n",
      "Mue confidence is: 0.42 < 0.45 < 0.48\n",
      "tau confidence is: 0.50 < 0.55 < 0.61\n"
     ]
    }
   ],
   "source": [
    "    stats = n_stats.freeEnergyStats()\n",
    "    stats.generate_statistics(computed_relative_DDGs,experimental_DDGs,repeats=10000)\n",
    "    r_confidence = stats.R_confidence\n",
    "    tau_confidence = stats.tau_confidence\n",
    "    mue_confidence = stats.mue_confidence\n",
    "    print (\"R confidence is: %.2f < %.2f < %.2f\" %(r_confidence[1], r_confidence[0], r_confidence[2]))\n",
    "    print (\"Mue confidence is: %.2f < %.2f < %.2f\" %(mue_confidence[1], mue_confidence[0], mue_confidence[2]))\n",
    "    print (\"tau confidence is: %.2f < %.2f < %.2f\" %(tau_confidence[1], tau_confidence[0], tau_confidence[2]))"
   ]
  },
  {
   "cell_type": "code",
   "execution_count": null,
   "id": "1f1cf6bc",
   "metadata": {},
   "outputs": [],
   "source": []
  },
  {
   "cell_type": "code",
   "execution_count": null,
   "id": "0c0af499",
   "metadata": {},
   "outputs": [],
   "source": []
  },
  {
   "cell_type": "code",
   "execution_count": null,
   "id": "c22b4d77",
   "metadata": {},
   "outputs": [],
   "source": []
  }
 ],
 "metadata": {
  "kernelspec": {
   "display_name": "Python 3",
   "language": "python",
   "name": "python3"
  },
  "language_info": {
   "codemirror_mode": {
    "name": "ipython",
    "version": 3
   },
   "file_extension": ".py",
   "mimetype": "text/x-python",
   "name": "python",
   "nbconvert_exporter": "python",
   "pygments_lexer": "ipython3",
   "version": "3.9.7"
  }
 },
 "nbformat": 4,
 "nbformat_minor": 5
}
